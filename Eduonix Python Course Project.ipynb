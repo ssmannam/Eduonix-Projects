{
 "cells": [
  {
   "cell_type": "code",
   "execution_count": 1,
   "metadata": {},
   "outputs": [
    {
     "name": "stdout",
     "output_type": "stream",
     "text": [
      "How many games would you like to play?2\n",
      "Pick a number:1\n",
      "Your guess is lower than the correct number!\n",
      "Pick a number:10\n",
      "Your guess is lower than the correct number!\n",
      "Pick a number:15\n",
      "Your guess is higher than the correct number!\n",
      "Pick a number:14\n",
      "Your guess is higher than the correct number!\n",
      "Pick a number:13\n",
      "Correct! It took you this many guess: 5\n",
      "Pick a number:15\n",
      "Your guess is lower than the correct number!\n",
      "Pick a number:20\n",
      "Your guess is lower than the correct number!\n",
      "Pick a number:21\n",
      "Your guess is lower than the correct number!\n",
      "Pick a number:22\n",
      "Your guess is lower than the correct number!\n",
      "Pick a number:23\n",
      "Your guess is lower than the correct number!\n",
      "Pick a number:24\n",
      "Your guess is lower than the correct number!\n",
      "Pick a number:25\n",
      "Your guess is lower than the correct number!\n",
      "Pick a number:26\n",
      "Correct! It took you this many guess: 8\n"
     ]
    }
   ],
   "source": [
    "import random\n",
    "\n",
    "games = ' '\n",
    "\n",
    "while games == ' ':\n",
    "    try:\n",
    "        games = int(input(\"How many games would you like to play?\"))\n",
    "    except:\n",
    "        print(\"Please select a number\")\n",
    "\n",
    "for game in range(0,games):\n",
    "    correctNum = random.randint(1,26)\n",
    "    guess = None\n",
    "    attempts=0\n",
    "    \n",
    "    while correctNum != guess:\n",
    "        try:\n",
    "            guess = int(input(\"Pick a number:\"))\n",
    "            attempts+=1\n",
    "        except:\n",
    "            print(\"Please select a number\")\n",
    "            continue\n",
    "            \n",
    "        if guess != correctNum: \n",
    "            if guess > correctNum:\n",
    "                print(\"Your guess is higher than the correct number!\")\n",
    "            else:\n",
    "                print(\"Your guess is lower than the correct number!\")\n",
    "            \n",
    "        else:\n",
    "            print(\"Correct! It took you this many guess: %s\" % attempts)"
   ]
  },
  {
   "cell_type": "code",
   "execution_count": null,
   "metadata": {},
   "outputs": [],
   "source": []
  },
  {
   "cell_type": "code",
   "execution_count": null,
   "metadata": {},
   "outputs": [],
   "source": []
  },
  {
   "cell_type": "code",
   "execution_count": null,
   "metadata": {},
   "outputs": [],
   "source": []
  }
 ],
 "metadata": {
  "kernelspec": {
   "display_name": "Python 3",
   "language": "python",
   "name": "python3"
  },
  "language_info": {
   "codemirror_mode": {
    "name": "ipython",
    "version": 3
   },
   "file_extension": ".py",
   "mimetype": "text/x-python",
   "name": "python",
   "nbconvert_exporter": "python",
   "pygments_lexer": "ipython3",
   "version": "3.7.3"
  }
 },
 "nbformat": 4,
 "nbformat_minor": 2
}
